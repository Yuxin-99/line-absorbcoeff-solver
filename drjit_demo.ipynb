{
 "cells": [
  {
   "cell_type": "code",
   "execution_count": null,
   "id": "a6ded4f9-4093-4544-84f2-b5847d21455e",
   "metadata": {},
   "outputs": [],
   "source": [
    "import drjit as dr\n",
    "import mitsuba as mi\n",
    "\n",
    "mi.set_variant('llvm_ad_rgb')"
   ]
  },
  {
   "cell_type": "code",
   "execution_count": 1,
   "id": "f926318f-55b4-4585-9c25-b62c46385729",
   "metadata": {},
   "outputs": [
    {
     "ename": "NameError",
     "evalue": "name 'mi' is not defined",
     "output_type": "error",
     "traceback": [
      "\u001b[0;31m---------------------------------------------------------------------------\u001b[0m",
      "\u001b[0;31mNameError\u001b[0m                                 Traceback (most recent call last)",
      "Cell \u001b[0;32mIn[1], line 1\u001b[0m\n\u001b[0;32m----> 1\u001b[0m a \u001b[38;5;241m=\u001b[39m \u001b[43mmi\u001b[49m\u001b[38;5;241m.\u001b[39mFloat([\u001b[38;5;241m4.0\u001b[39m, \u001b[38;5;241m8.0\u001b[39m, \u001b[38;5;241m44.0\u001b[39m])\n\u001b[1;32m      2\u001b[0m b \u001b[38;5;241m=\u001b[39m mi\u001b[38;5;241m.\u001b[39mUInt32([\u001b[38;5;241m0\u001b[39m, \u001b[38;5;241m0\u001b[39m, \u001b[38;5;241m0\u001b[39m, \u001b[38;5;241m0\u001b[39m])\n\u001b[1;32m      4\u001b[0m N \u001b[38;5;241m=\u001b[39m \u001b[38;5;241m4\u001b[39m\n",
      "\u001b[0;31mNameError\u001b[0m: name 'mi' is not defined"
     ]
    }
   ],
   "source": [
    "a = mi.Float([4.0, 8.0, 44.0])\n",
    "b = mi.UInt32([0, 0, 0, 0])\n",
    "\n",
    "N = 4\n",
    "\n",
    "c = dr.zeros(mi.Int32, N) \n",
    "d = dr.full(mi.UInt32, 4, N) \n",
    "e = dr.arange(mi.UInt32, N) # -> 0, 1, 2, 3 \n",
    "print(e)\n",
    "\n",
    "# Masks\n",
    "m1 = dr.full(mi.Bool, True, N)\n",
    "m2 = e < 2 # -> [True, True, False, False]\n",
    "print(m2)"
   ]
  },
  {
   "cell_type": "code",
   "execution_count": 12,
   "id": "6db229fe",
   "metadata": {},
   "outputs": [
    {
     "data": {
      "text/plain": [
       "False"
      ]
     },
     "execution_count": 12,
     "metadata": {},
     "output_type": "execute_result"
    }
   ],
   "source": [
    "not(True in m2)"
   ]
  },
  {
   "cell_type": "code",
   "execution_count": 16,
   "id": "14afc9c4",
   "metadata": {},
   "outputs": [
    {
     "data": {
      "text/plain": [
       "[1, 1, 1]"
      ]
     },
     "execution_count": 16,
     "metadata": {},
     "output_type": "execute_result"
    }
   ],
   "source": [
    "import numpy as np\n",
    "# c= mi.Int32(np.ones(3))\n",
    "c= dr.zeros(mi.Int32, 3) +1\n",
    "c"
   ]
  },
  {
   "cell_type": "code",
   "execution_count": 7,
   "id": "c5194584-a21d-4b08-95fe-a761f98667d8",
   "metadata": {},
   "outputs": [
    {
     "name": "stdout",
     "output_type": "stream",
     "text": [
      "[0, 0, 0, 0]\n",
      "[True, True, True, True]\n"
     ]
    }
   ],
   "source": [
    "state = dr.zeros(mi.UInt32, N) \n",
    "m_0 = dr.eq(state, 0)\n",
    "print(state)\n",
    "print(m_0)"
   ]
  },
  {
   "cell_type": "code",
   "execution_count": 8,
   "id": "9e3cb019-7eba-4ab0-9b1a-260db19e851e",
   "metadata": {},
   "outputs": [
    {
     "name": "stdout",
     "output_type": "stream",
     "text": [
      "[1, 1, 1, 2]\n",
      "[True, True, True, False]\n",
      "[4, 4, 4, 2]\n"
     ]
    }
   ],
   "source": [
    "next_state = dr.zeros(mi.UInt32, N) \n",
    "\n",
    "event = mi.UInt32([1, 1, 1, 2])\n",
    "\n",
    "# Epsilon function for Node 0\n",
    "m_epsilon_0 = dr.eq(event, 1)\n",
    "x = dr.select(m_epsilon_0, 4, 2)\n",
    "print(event)\n",
    "print(m_epsilon_0)\n",
    "print(x)\n"
   ]
  },
  {
   "cell_type": "code",
   "execution_count": null,
   "id": "329d37ce",
   "metadata": {},
   "outputs": [],
   "source": [
    "next_state = dr.select(m_0, x, next_state)\n",
    "next_state[m_0] = x"
   ]
  }
 ],
 "metadata": {
  "kernelspec": {
   "display_name": "venv",
   "language": "python",
   "name": "venv"
  },
  "language_info": {
   "codemirror_mode": {
    "name": "ipython",
    "version": 3
   },
   "file_extension": ".py",
   "mimetype": "text/x-python",
   "name": "python",
   "nbconvert_exporter": "python",
   "pygments_lexer": "ipython3",
   "version": "3.9.13"
  },
  "vscode": {
   "interpreter": {
    "hash": "0dd348954206cd4db39997712b40c41aa8f493ba068214e637e5921ff8f55c05"
   }
  }
 },
 "nbformat": 4,
 "nbformat_minor": 5
}
