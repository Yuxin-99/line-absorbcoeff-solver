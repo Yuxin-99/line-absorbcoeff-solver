version https://git-lfs.github.com/spec/v1
oid sha256:1fbd3e07ab7929f41b3114b585fe44b742df601b186ce74c1973198dca974914
size 54225
