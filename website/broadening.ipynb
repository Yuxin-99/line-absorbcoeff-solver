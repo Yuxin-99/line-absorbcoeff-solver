version https://git-lfs.github.com/spec/v1
oid sha256:1f9b92154c25112a238f3e1c96fec019a1a7f256fce95c4582bef94256b720c5
size 43412
