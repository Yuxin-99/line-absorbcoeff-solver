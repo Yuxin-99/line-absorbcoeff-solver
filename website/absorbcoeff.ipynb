version https://git-lfs.github.com/spec/v1
oid sha256:ce56da4043ac0a51736d208649ebe7837842ad0cf6009eb625579f55a2f1aa1f
size 550097
