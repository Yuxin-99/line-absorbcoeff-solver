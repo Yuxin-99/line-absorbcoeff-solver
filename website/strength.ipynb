version https://git-lfs.github.com/spec/v1
oid sha256:b1f2b5bf441bb2ae78f5dc17584ef1c274642876896b8f4c9a5fa3d776a8c0b8
size 6533
